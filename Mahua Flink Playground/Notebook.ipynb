{
 "cells": [
  {
   "cell_type": "code",
   "execution_count": 1,
   "id": "106cc23c-c996-47c8-ac84-6914dfd5d46b",
   "metadata": {},
   "outputs": [],
   "source": [
    "!set COMPOSE_CONVERT_WINDOWS_PATHS=1"
   ]
  },
  {
   "cell_type": "code",
   "execution_count": 2,
   "id": "264a4a51-809f-44b9-97a3-75752b7e10ea",
   "metadata": {},
   "outputs": [
    {
     "name": "stderr",
     "output_type": "stream",
     "text": [
      " Network mahuaflinkplayground_default  Creating\n",
      " Network mahuaflinkplayground_default  Created\n",
      " Container mahuaflinkplayground-jobmanager-1  Creating\n",
      " Container mahuaflinkplayground-jobmanager-1  Created\n",
      " Container mahuaflinkplayground-taskmanager-1  Creating\n",
      " Container mahuaflinkplayground-taskmanager-1  Created\n",
      " Container mahuaflinkplayground-jobmanager-1  Starting\n",
      " Container mahuaflinkplayground-jobmanager-1  Started\n",
      " Container mahuaflinkplayground-taskmanager-1  Starting\n",
      " Container mahuaflinkplayground-taskmanager-1  Started\n"
     ]
    }
   ],
   "source": [
    "!docker compose up -d"
   ]
  },
  {
   "cell_type": "code",
   "execution_count": 3,
   "id": "2332d645-5d3f-4956-84eb-153220b48445",
   "metadata": {},
   "outputs": [
    {
     "name": "stdout",
     "output_type": "stream",
     "text": [
      "Job has been submitted with JobID 39fc04b56e16f778795cbccfecfbf4b4\n",
      "+----+--------------------------------+----------------------+\n",
      "| op |                           name |            count_age |\n",
      "+----+--------------------------------+----------------------+\n",
      "| +I |                          Alice |                    1 |\n",
      "| -U |                          Alice |                    1 |\n",
      "| +U |                          Alice |                    2 |\n",
      "+----+--------------------------------+----------------------+\n",
      "3 rows in set\n"
     ]
    }
   ],
   "source": [
    "!docker-compose exec jobmanager ./bin/flink run -py /opt/examples/main.py"
   ]
  },
  {
   "cell_type": "code",
   "execution_count": null,
   "id": "1d9065a5-1493-4edd-af2b-93be1ab99764",
   "metadata": {},
   "outputs": [],
   "source": []
  }
 ],
 "metadata": {
  "kernelspec": {
   "display_name": "Bigdata",
   "language": "python",
   "name": "bigdata"
  },
  "language_info": {
   "codemirror_mode": {
    "name": "ipython",
    "version": 3
   },
   "file_extension": ".py",
   "mimetype": "text/x-python",
   "name": "python",
   "nbconvert_exporter": "python",
   "pygments_lexer": "ipython3",
   "version": "3.9.18"
  }
 },
 "nbformat": 4,
 "nbformat_minor": 5
}
